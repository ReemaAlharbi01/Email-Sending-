{
  "nbformat": 4,
  "nbformat_minor": 0,
  "metadata": {
    "colab": {
      "provenance": []
    },
    "kernelspec": {
      "name": "python3",
      "display_name": "Python 3"
    },
    "language_info": {
      "name": "python"
    }
  },
  "cells": [
    {
      "cell_type": "code",
      "source": [
        "import re\n",
        "from google.colab import drive\n",
        "\n",
        "# Mount Google Drive\n",
        "drive.mount('/content/drive')\n",
        "\n",
        "# Replace with the actual path of your text file\n",
        "file_path = \"/content/drive/MyDrive/emails_List.txt\"\n",
        "\n",
        "# Read the contents of the text file\n",
        "with open(file_path, 'r') as file:\n",
        "    contents = file.read()\n",
        "\n",
        "# Split the contents by comma or newline to create a list of emails\n",
        "email_list = re.split(',|\\n', contents)\n",
        "\n",
        "# Remove any empty elements from the email list\n",
        "while \"\" in email_list:\n",
        "    email_list.remove(\"\")\n"
      ],
      "metadata": {
        "colab": {
          "base_uri": "https://localhost:8080/"
        },
        "id": "BHoukn5icWao",
        "outputId": "54523e23-ec6b-4389-a5e5-0ff70d75c1d1"
      },
      "execution_count": 4,
      "outputs": [
        {
          "output_type": "stream",
          "name": "stdout",
          "text": [
            "Drive already mounted at /content/drive; to attempt to forcibly remount, call drive.mount(\"/content/drive\", force_remount=True).\n"
          ]
        }
      ]
    },
    {
      "cell_type": "code",
      "source": [
        "import smtplib, ssl\n",
        "from email.mime.multipart import MIMEMultipart\n",
        "from email.mime.text import MIMEText\n",
        "\n",
        "# First, we declare variables.\n",
        "smtp_server='smtp.gmail.com'                   # The server.\n",
        "port=587                                       # The port based on the server.\n",
        "sender_email = \"example@gmail.com\"         # The sender email.\n",
        "sender_password = getpass(\"Input your password: \") # The password.\n",
        "\n",
        "# The message content.\n",
        "subject = \"Hi, this message is from Reema Python.\"\n",
        "body = \"\"\"\n",
        "Reema Python wishes all of you a happy day.\n",
        "\"\"\"\n",
        "\n",
        "# The method that will send the message.\n",
        "def send_email():\n",
        "    # For loop to go through the emails without appearing in the email that there were a list of emails.\n",
        "    for receiver in email_list:\n",
        "        msg_info = MIMEMultipart()\n",
        "        msg_info['From'] = sender_email\n",
        "        msg_info['To'] = receiver\n",
        "        msg_info['Subject'] = subject\n",
        "        msg_info.attach(MIMEText(body, 'plain'))\n",
        "\n",
        "        # Establish a secure connection with the server\n",
        "        context = ssl.create_default_context()\n",
        "        with smtplib.SMTP(smtp_server, port) as server:\n",
        "            server.starttls(context=context)\n",
        "            server.login(sender_email, sender_password)  # Log in to the email.\n",
        "            server.send_message(msg_info)              # Send the message.\n",
        "    server.quit()                             # After finishing sending, we should close the server.\n",
        "\n",
        "send_email()"
      ],
      "metadata": {
        "id": "_WoP67l-cWjZ"
      },
      "execution_count": null,
      "outputs": []
    }
  ]
}